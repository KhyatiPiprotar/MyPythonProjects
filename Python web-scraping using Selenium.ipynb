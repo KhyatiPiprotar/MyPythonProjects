{
 "cells": [
  {
   "cell_type": "markdown",
   "id": "6e733d3e",
   "metadata": {},
   "source": [
    "### Importing modules, open the website and seach for the title"
   ]
  },
  {
   "cell_type": "code",
   "execution_count": 1,
   "id": "e9ab478a",
   "metadata": {},
   "outputs": [],
   "source": [
    "# Import Selenium and time\n",
    "from selenium import webdriver\n",
    "from selenium.webdriver.common.keys import Keys\n",
    "from time import sleep\n",
    "\n",
    "# Open the browser\n",
    "path = r\"C:\\Users\\Khyati\\Downloads\\chromedriver_win32\\chromedriver.exe\"\n",
    "browser = webdriver.Chrome(path)\n",
    "sleep(1)\n",
    "\n",
    "\n",
    "# Load the LinkedIn webpage\n",
    "browser.get(\"https://www.linkedin.com/\")\n",
    "sleep(3)\n",
    "\n",
    "# Maximize the window\n",
    "browser.maximize_window()\n",
    "\n",
    "#Create a new CSV file\n",
    "with open('Python web-scraping using Selenium.csv','w') as file:\n",
    "    file.write(\"Job_title; Company; Location; List_date \\n\")\n",
    "\n",
    "#Click on Jobs button and search for 'Data analyst' Job title\n",
    "Jobs = browser.find_element_by_xpath(\"//a[@href='https://www.linkedin.com/jobs/jobs-in-ottawa-on?trk=homepage-basic_guest_nav_menu_jobs']\")\n",
    "Jobs.click()\n",
    "sleep(3)\n",
    "\n",
    "Search_title = browser.find_element_by_xpath(\"(//input[@class='dismissable-input__input'])[3]\")\n",
    "Search_title.send_keys(\"data analyst\")\n",
    "sleep(3)\n",
    "\n",
    "Click_search = browser.find_element_by_xpath(\"(//button[@class='base-search-bar__submit-btn'])[2]\")\n",
    "Click_search.click()\n",
    "sleep(3)\n"
   ]
  },
  {
   "cell_type": "markdown",
   "id": "bad6f005",
   "metadata": {},
   "source": [
    "### Scrolling down the page until job listings end. Click on search more Jobs button if there is any."
   ]
  },
  {
   "cell_type": "code",
   "execution_count": 2,
   "id": "34382a11",
   "metadata": {},
   "outputs": [],
   "source": [
    "for i in range (0,100):\n",
    "    browser.execute_script('window.scrollTo(0, document.body.scrollHeight);')\n",
    "    sleep(1)\n",
    "    try:\n",
    "        element = browser.find_element_by_xpath('//*[@id=\"main-content\"]/section[2]/button')\n",
    "        element.click()\n",
    "        sleep(1)\n",
    "    except:\n",
    "        pass"
   ]
  },
  {
   "cell_type": "markdown",
   "id": "4117b316",
   "metadata": {},
   "source": [
    "### Look for Details and save them into csv file that was created earlier."
   ]
  },
  {
   "cell_type": "code",
   "execution_count": 3,
   "id": "9f07fe21",
   "metadata": {},
   "outputs": [
    {
     "name": "stdout",
     "output_type": "stream",
     "text": [
      "scraping Job # 1\n",
      "scraping Job # 2\n",
      "scraping Job # 3\n",
      "scraping Job # 4\n",
      "scraping Job # 5\n",
      "scraping Job # 6\n",
      "scraping Job # 7\n",
      "scraping Job # 8\n",
      "scraping Job # 9\n",
      "scraping Job # 10\n",
      "scraping Job # 11\n",
      "scraping Job # 12\n",
      "scraping Job # 13\n",
      "scraping Job # 14\n",
      "scraping Job # 15\n",
      "scraping Job # 16\n",
      "scraping Job # 17\n",
      "scraping Job # 18\n",
      "scraping Job # 19\n",
      "scraping Job # 20\n",
      "scraping Job # 21\n",
      "scraping Job # 22\n",
      "scraping Job # 23\n",
      "scraping Job # 24\n",
      "scraping Job # 25\n",
      "scraping Job # 26\n",
      "scraping Job # 27\n",
      "scraping Job # 28\n",
      "scraping Job # 29\n",
      "scraping Job # 30\n",
      "scraping Job # 31\n",
      "scraping Job # 32\n",
      "scraping Job # 33\n",
      "scraping Job # 34\n",
      "scraping Job # 35\n",
      "scraping Job # 36\n",
      "scraping Job # 37\n",
      "scraping Job # 38\n",
      "scraping Job # 39\n",
      "scraping Job # 40\n",
      "scraping Job # 41\n",
      "scraping Job # 42\n",
      "scraping Job # 43\n",
      "scraping Job # 44\n",
      "scraping Job # 45\n",
      "scraping Job # 46\n",
      "scraping Job # 47\n",
      "scraping Job # 48\n",
      "scraping Job # 49\n",
      "scraping Job # 50\n"
     ]
    }
   ],
   "source": [
    "Job_title = browser.find_elements_by_xpath(\"//h3[@class ='base-search-card__title']\")\n",
    "Company = browser.find_elements_by_xpath(\"//h4[@class ='base-search-card__subtitle']\")\n",
    "Location = browser.find_elements_by_xpath(\"//span[@class ='job-search-card__location']\")\n",
    "List_date= browser.find_elements_by_xpath(\"//time[@class ='job-search-card__listdate' ]\")\n",
    "\n",
    "\n",
    "with open('Python web-scraping using Selenium.csv','a') as file:\n",
    "        for i in range(50):\n",
    "            print('scraping Job #',i+1)\n",
    "            file.write(Job_title[i].text + ';' + Company[i].text + ';' + Location[i].text + ';' + List_date[i].text + '\\n')\n",
    "            sleep(1)"
   ]
  }
 ],
 "metadata": {
  "kernelspec": {
   "display_name": "Python 3 (ipykernel)",
   "language": "python",
   "name": "python3"
  },
  "language_info": {
   "codemirror_mode": {
    "name": "ipython",
    "version": 3
   },
   "file_extension": ".py",
   "mimetype": "text/x-python",
   "name": "python",
   "nbconvert_exporter": "python",
   "pygments_lexer": "ipython3",
   "version": "3.9.7"
  }
 },
 "nbformat": 4,
 "nbformat_minor": 5
}
